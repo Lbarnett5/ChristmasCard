{
 "cells": [
  {
   "cell_type": "markdown",
   "id": "87fb273f",
   "metadata": {},
   "source": [
    "## Create a Greeting Card"
   ]
  },
  {
   "cell_type": "code",
   "execution_count": 1,
   "id": "0ef20bf5",
   "metadata": {},
   "outputs": [
    {
     "name": "stdout",
     "output_type": "stream",
     "text": [
      "Requirement already satisfied: game in c:\\users\\lbarnett\\anaconda3\\lib\\site-packages (0.0.5)\n"
     ]
    }
   ],
   "source": [
    "!pip install game"
   ]
  },
  {
   "cell_type": "code",
   "execution_count": 2,
   "id": "e4119ad7",
   "metadata": {},
   "outputs": [
    {
     "name": "stdout",
     "output_type": "stream",
     "text": [
      "pygame 2.1.2 (SDL 2.0.18, Python 3.9.13)\n",
      "Hello from the pygame community. https://www.pygame.org/contribute.html\n"
     ]
    }
   ],
   "source": [
    "import pygame\n",
    "pygame.init()\n",
    "from pygame import mixer\n",
    "\n",
    "WIDTH=500\n",
    "HEIGHT=400\n",
    "\n",
    "surface=pygame.display.set_mode((WIDTH,HEIGHT))\n",
    "\n",
    "BLACK=(0,0,0)\n",
    "RED=(255,0,0)\n",
    "\n",
    "pygame.display.set_caption(\"Adding images to Pygame Window\")\n",
    "img=pygame.image.load(\"Watercolor-Christmas-Cards.jpg\").convert()\n",
    "resized_img=pygame.transform.scale(img,(500,400))\n",
    "x=0\n",
    "y=0\n",
    "surface.blit(resized_img,(x,y))\n",
    "\n",
    "pygame.display.flip()\n",
    "\n",
    "font=pygame.font.Font('freesansbold.ttf',48)\n",
    "text=font.render(\"Happy Holidays\", True, RED, BLACK)\n",
    "\n",
    "textRect=text.get_rect()\n",
    "X=500\n",
    "Y=400\n",
    "textRect.center=(X//2,Y//2)\n",
    "\n",
    "\n",
    "mixer.init()\n",
    "mixer.music.load(\"we-wish-you-a-merry-christmas.mp3\")\n",
    "mixer.music.set_volume(0.7)\n",
    "\n",
    "#start playing the song\n",
    "mixer.music.play()\n",
    "\n",
    "active=True\n",
    "while active:\n",
    "    surface.blit(text,textRect)\n",
    "    for event in pygame.event.get():\n",
    "        if event.type==pygame.QUIT:\n",
    "            mixer.music.stop()\n",
    "            active=False\n",
    "        pygame.display.update()\n",
    "        \n",
    "pygame.quit()"
   ]
  },
  {
   "cell_type": "code",
   "execution_count": null,
   "id": "727ef897",
   "metadata": {},
   "outputs": [],
   "source": []
  }
 ],
 "metadata": {
  "kernelspec": {
   "display_name": "Python 3 (ipykernel)",
   "language": "python",
   "name": "python3"
  },
  "language_info": {
   "codemirror_mode": {
    "name": "ipython",
    "version": 3
   },
   "file_extension": ".py",
   "mimetype": "text/x-python",
   "name": "python",
   "nbconvert_exporter": "python",
   "pygments_lexer": "ipython3",
   "version": "3.9.13"
  }
 },
 "nbformat": 4,
 "nbformat_minor": 5
}
